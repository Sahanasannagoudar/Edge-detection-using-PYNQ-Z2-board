{
  "nbformat": 4,
  "nbformat_minor": 0,
  "metadata": {
    "colab": {
      "provenance": []
    },
    "kernelspec": {
      "name": "python3",
      "display_name": "Python 3"
    },
    "language_info": {
      "name": "python"
    }
  },
  "cells": [
    {
      "cell_type": "code",
      "execution_count": null,
      "metadata": {
        "id": "FNVyS0sGh8s6"
      },
      "outputs": [],
      "source": [
        "#include \"hls_stream.h\"\n",
        "#include \"ap_int.h\"\n",
        "#include \"ap_axi_sdata.h\"\n",
        "\n",
        "typedef ap_axis<32, 2, 5, 6> pixel_t;\n",
        "\n",
        "void sobel_filter(hls::stream<pixel_t> &input, hls::stream<pixel_t> &output, int rows, int cols) {\n",
        "\t#pragma HLS INTERFACE axis port=input\n",
        "\t#pragma HLS INTERFACE axis port=output\n",
        "\t#pragma HLS INTERFACE s_axilite port=rows\n",
        "\t#pragma HLS INTERFACE s_axilite port=cols\n",
        "\t#pragma HLS INTERFACE s_axilite port=return\n",
        "\n",
        "\tint Gx[3][3] = { {-1, 0, 1}, {-2, 0, 2}, {-1, 0, 1} };\n",
        "\tint Gy[3][3] = { { 1, 2, 1}, { 0, 0, 0}, {-1, -2, -1} };\n",
        "\n",
        "\tpixel_t window[3][3];\n",
        "\tfor (int i = 0; i < rows; i++) {\n",
        "    \tfor (int j = 0; j < cols; j++) {\n",
        "        \t#pragma HLS PIPELINE\n",
        "        \tpixel_t pixel_in = input.read();\n",
        "        \t// Update window\n",
        "        \tfor (int k = 0; k < 2; k++) {\n",
        "            \tfor (int l = 0; l < 3; l++) {\n",
        "                \twindow[k][l] = window[k+1][l];\n",
        "            \t}\n",
        "        \t}\n",
        "        \twindow[2][0] = window[2][1];\n",
        "        \twindow[2][1] = window[2][2];\n",
        "        \twindow[2][2] = pixel_in;\n",
        "\n",
        "        \t// Apply Sobel filter\n",
        "        \tint Gx_val = 0;\n",
        "        \tint Gy_val = 0;\n",
        "        \tfor (int k = 0; k < 3; k++) {\n",
        "            \tfor (int l = 0; l < 3; l++) {\n",
        "                \tGx_val += window[k][l].data * Gx[k][l];\n",
        "                \tGy_val += window[k][l].data * Gy[k][l];\n",
        "            \t}\n",
        "        \t}\n",
        "\n",
        "        \t// Calculate magnitude using L1 norm (|Gx| + |Gy|)\n",
        "        \tint abs_Gx_val = Gx_val < 0 ? -Gx_val : Gx_val;\n",
        "        \tint abs_Gy_val = Gy_val < 0 ? -Gy_val : Gy_val;\n",
        "        \tint magnitude = abs_Gx_val + abs_Gy_val;\n",
        "        \tpixel_t pixel_out;\n",
        "        \tpixel_out.data = magnitude > 255 ? 255 : magnitude;\n",
        "        \tpixel_out.keep = pixel_in.keep;\n",
        "        \tpixel_out.strb = pixel_in.strb;\n",
        "        \tpixel_out.user = pixel_in.user;\n",
        "        \tpixel_out.last = pixel_in.last;\n",
        "        \tpixel_out.id = pixel_in.id;\n",
        "        \tpixel_out.dest = pixel_in.dest;\n",
        "        \toutput.write(pixel_out);\n",
        "    \t}\n",
        "\t}\n",
        "}"
      ]
    }
  ]
}